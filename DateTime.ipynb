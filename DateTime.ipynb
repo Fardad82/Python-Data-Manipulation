{
 "cells": [
  {
   "cell_type": "code",
   "execution_count": 6,
   "id": "cc37319d",
   "metadata": {},
   "outputs": [],
   "source": [
    "import numpy as np\n",
    "import pandas as pd\n",
    "import matplotlib.pyplot as plt"
   ]
  },
  {
   "cell_type": "code",
   "execution_count": 8,
   "id": "90934733",
   "metadata": {},
   "outputs": [],
   "source": [
    "AmazonData = pd.read_csv(\"F:/Fardad/Learning People/Experiments/Datasets/amazon.csv\")"
   ]
  },
  {
   "cell_type": "code",
   "execution_count": 9,
   "id": "bd53e391",
   "metadata": {},
   "outputs": [
    {
     "data": {
      "text/html": [
       "<div>\n",
       "<style scoped>\n",
       "    .dataframe tbody tr th:only-of-type {\n",
       "        vertical-align: middle;\n",
       "    }\n",
       "\n",
       "    .dataframe tbody tr th {\n",
       "        vertical-align: top;\n",
       "    }\n",
       "\n",
       "    .dataframe thead th {\n",
       "        text-align: right;\n",
       "    }\n",
       "</style>\n",
       "<table border=\"1\" class=\"dataframe\">\n",
       "  <thead>\n",
       "    <tr style=\"text-align: right;\">\n",
       "      <th></th>\n",
       "      <th>Date</th>\n",
       "      <th>Open</th>\n",
       "      <th>High</th>\n",
       "      <th>Low</th>\n",
       "      <th>Close</th>\n",
       "      <th>Adj Close</th>\n",
       "      <th>Volume</th>\n",
       "    </tr>\n",
       "  </thead>\n",
       "  <tbody>\n",
       "    <tr>\n",
       "      <th>0</th>\n",
       "      <td>2008-12-08</td>\n",
       "      <td>49.150002</td>\n",
       "      <td>52.139999</td>\n",
       "      <td>47.360001</td>\n",
       "      <td>51.410000</td>\n",
       "      <td>51.410000</td>\n",
       "      <td>10940700</td>\n",
       "    </tr>\n",
       "    <tr>\n",
       "      <th>1</th>\n",
       "      <td>2008-12-09</td>\n",
       "      <td>49.810001</td>\n",
       "      <td>54.480000</td>\n",
       "      <td>49.700001</td>\n",
       "      <td>51.250000</td>\n",
       "      <td>51.250000</td>\n",
       "      <td>13314800</td>\n",
       "    </tr>\n",
       "    <tr>\n",
       "      <th>2</th>\n",
       "      <td>2008-12-10</td>\n",
       "      <td>51.459999</td>\n",
       "      <td>51.500000</td>\n",
       "      <td>48.340000</td>\n",
       "      <td>49.700001</td>\n",
       "      <td>49.700001</td>\n",
       "      <td>7753800</td>\n",
       "    </tr>\n",
       "    <tr>\n",
       "      <th>3</th>\n",
       "      <td>2008-12-11</td>\n",
       "      <td>49.330002</td>\n",
       "      <td>50.490002</td>\n",
       "      <td>48.169998</td>\n",
       "      <td>48.250000</td>\n",
       "      <td>48.250000</td>\n",
       "      <td>7583600</td>\n",
       "    </tr>\n",
       "    <tr>\n",
       "      <th>4</th>\n",
       "      <td>2008-12-12</td>\n",
       "      <td>47.520000</td>\n",
       "      <td>51.380001</td>\n",
       "      <td>47.520000</td>\n",
       "      <td>51.250000</td>\n",
       "      <td>51.250000</td>\n",
       "      <td>8664800</td>\n",
       "    </tr>\n",
       "  </tbody>\n",
       "</table>\n",
       "</div>"
      ],
      "text/plain": [
       "         Date       Open       High        Low      Close  Adj Close    Volume\n",
       "0  2008-12-08  49.150002  52.139999  47.360001  51.410000  51.410000  10940700\n",
       "1  2008-12-09  49.810001  54.480000  49.700001  51.250000  51.250000  13314800\n",
       "2  2008-12-10  51.459999  51.500000  48.340000  49.700001  49.700001   7753800\n",
       "3  2008-12-11  49.330002  50.490002  48.169998  48.250000  48.250000   7583600\n",
       "4  2008-12-12  47.520000  51.380001  47.520000  51.250000  51.250000   8664800"
      ]
     },
     "execution_count": 9,
     "metadata": {},
     "output_type": "execute_result"
    }
   ],
   "source": [
    "AmazonData.head()"
   ]
  },
  {
   "cell_type": "code",
   "execution_count": 10,
   "id": "5a122c75",
   "metadata": {},
   "outputs": [],
   "source": [
    "AmazonData.index=pd.to_datetime(AmazonData['Date'])"
   ]
  },
  {
   "cell_type": "code",
   "execution_count": 11,
   "id": "6d80f388",
   "metadata": {},
   "outputs": [
    {
     "data": {
      "text/html": [
       "<div>\n",
       "<style scoped>\n",
       "    .dataframe tbody tr th:only-of-type {\n",
       "        vertical-align: middle;\n",
       "    }\n",
       "\n",
       "    .dataframe tbody tr th {\n",
       "        vertical-align: top;\n",
       "    }\n",
       "\n",
       "    .dataframe thead th {\n",
       "        text-align: right;\n",
       "    }\n",
       "</style>\n",
       "<table border=\"1\" class=\"dataframe\">\n",
       "  <thead>\n",
       "    <tr style=\"text-align: right;\">\n",
       "      <th></th>\n",
       "      <th>Date</th>\n",
       "      <th>Open</th>\n",
       "      <th>High</th>\n",
       "      <th>Low</th>\n",
       "      <th>Close</th>\n",
       "      <th>Adj Close</th>\n",
       "      <th>Volume</th>\n",
       "    </tr>\n",
       "    <tr>\n",
       "      <th>Date</th>\n",
       "      <th></th>\n",
       "      <th></th>\n",
       "      <th></th>\n",
       "      <th></th>\n",
       "      <th></th>\n",
       "      <th></th>\n",
       "      <th></th>\n",
       "    </tr>\n",
       "  </thead>\n",
       "  <tbody>\n",
       "    <tr>\n",
       "      <th>2008-12-08</th>\n",
       "      <td>2008-12-08</td>\n",
       "      <td>49.150002</td>\n",
       "      <td>52.139999</td>\n",
       "      <td>47.360001</td>\n",
       "      <td>51.410000</td>\n",
       "      <td>51.410000</td>\n",
       "      <td>10940700</td>\n",
       "    </tr>\n",
       "    <tr>\n",
       "      <th>2008-12-09</th>\n",
       "      <td>2008-12-09</td>\n",
       "      <td>49.810001</td>\n",
       "      <td>54.480000</td>\n",
       "      <td>49.700001</td>\n",
       "      <td>51.250000</td>\n",
       "      <td>51.250000</td>\n",
       "      <td>13314800</td>\n",
       "    </tr>\n",
       "    <tr>\n",
       "      <th>2008-12-10</th>\n",
       "      <td>2008-12-10</td>\n",
       "      <td>51.459999</td>\n",
       "      <td>51.500000</td>\n",
       "      <td>48.340000</td>\n",
       "      <td>49.700001</td>\n",
       "      <td>49.700001</td>\n",
       "      <td>7753800</td>\n",
       "    </tr>\n",
       "    <tr>\n",
       "      <th>2008-12-11</th>\n",
       "      <td>2008-12-11</td>\n",
       "      <td>49.330002</td>\n",
       "      <td>50.490002</td>\n",
       "      <td>48.169998</td>\n",
       "      <td>48.250000</td>\n",
       "      <td>48.250000</td>\n",
       "      <td>7583600</td>\n",
       "    </tr>\n",
       "    <tr>\n",
       "      <th>2008-12-12</th>\n",
       "      <td>2008-12-12</td>\n",
       "      <td>47.520000</td>\n",
       "      <td>51.380001</td>\n",
       "      <td>47.520000</td>\n",
       "      <td>51.250000</td>\n",
       "      <td>51.250000</td>\n",
       "      <td>8664800</td>\n",
       "    </tr>\n",
       "  </tbody>\n",
       "</table>\n",
       "</div>"
      ],
      "text/plain": [
       "                  Date       Open       High        Low      Close  Adj Close  \\\n",
       "Date                                                                            \n",
       "2008-12-08  2008-12-08  49.150002  52.139999  47.360001  51.410000  51.410000   \n",
       "2008-12-09  2008-12-09  49.810001  54.480000  49.700001  51.250000  51.250000   \n",
       "2008-12-10  2008-12-10  51.459999  51.500000  48.340000  49.700001  49.700001   \n",
       "2008-12-11  2008-12-11  49.330002  50.490002  48.169998  48.250000  48.250000   \n",
       "2008-12-12  2008-12-12  47.520000  51.380001  47.520000  51.250000  51.250000   \n",
       "\n",
       "              Volume  \n",
       "Date                  \n",
       "2008-12-08  10940700  \n",
       "2008-12-09  13314800  \n",
       "2008-12-10   7753800  \n",
       "2008-12-11   7583600  \n",
       "2008-12-12   8664800  "
      ]
     },
     "execution_count": 11,
     "metadata": {},
     "output_type": "execute_result"
    }
   ],
   "source": [
    "AmazonData.head()"
   ]
  },
  {
   "cell_type": "code",
   "execution_count": 12,
   "id": "87aaea20",
   "metadata": {},
   "outputs": [],
   "source": [
    "del AmazonData[\"Date\"]"
   ]
  },
  {
   "cell_type": "code",
   "execution_count": 13,
   "id": "ae41d9e7",
   "metadata": {},
   "outputs": [
    {
     "data": {
      "text/html": [
       "<div>\n",
       "<style scoped>\n",
       "    .dataframe tbody tr th:only-of-type {\n",
       "        vertical-align: middle;\n",
       "    }\n",
       "\n",
       "    .dataframe tbody tr th {\n",
       "        vertical-align: top;\n",
       "    }\n",
       "\n",
       "    .dataframe thead th {\n",
       "        text-align: right;\n",
       "    }\n",
       "</style>\n",
       "<table border=\"1\" class=\"dataframe\">\n",
       "  <thead>\n",
       "    <tr style=\"text-align: right;\">\n",
       "      <th></th>\n",
       "      <th>Open</th>\n",
       "      <th>High</th>\n",
       "      <th>Low</th>\n",
       "      <th>Close</th>\n",
       "      <th>Adj Close</th>\n",
       "      <th>Volume</th>\n",
       "    </tr>\n",
       "    <tr>\n",
       "      <th>Date</th>\n",
       "      <th></th>\n",
       "      <th></th>\n",
       "      <th></th>\n",
       "      <th></th>\n",
       "      <th></th>\n",
       "      <th></th>\n",
       "    </tr>\n",
       "  </thead>\n",
       "  <tbody>\n",
       "    <tr>\n",
       "      <th>2008-12-08</th>\n",
       "      <td>49.150002</td>\n",
       "      <td>52.139999</td>\n",
       "      <td>47.360001</td>\n",
       "      <td>51.410000</td>\n",
       "      <td>51.410000</td>\n",
       "      <td>10940700</td>\n",
       "    </tr>\n",
       "    <tr>\n",
       "      <th>2008-12-09</th>\n",
       "      <td>49.810001</td>\n",
       "      <td>54.480000</td>\n",
       "      <td>49.700001</td>\n",
       "      <td>51.250000</td>\n",
       "      <td>51.250000</td>\n",
       "      <td>13314800</td>\n",
       "    </tr>\n",
       "    <tr>\n",
       "      <th>2008-12-10</th>\n",
       "      <td>51.459999</td>\n",
       "      <td>51.500000</td>\n",
       "      <td>48.340000</td>\n",
       "      <td>49.700001</td>\n",
       "      <td>49.700001</td>\n",
       "      <td>7753800</td>\n",
       "    </tr>\n",
       "    <tr>\n",
       "      <th>2008-12-11</th>\n",
       "      <td>49.330002</td>\n",
       "      <td>50.490002</td>\n",
       "      <td>48.169998</td>\n",
       "      <td>48.250000</td>\n",
       "      <td>48.250000</td>\n",
       "      <td>7583600</td>\n",
       "    </tr>\n",
       "    <tr>\n",
       "      <th>2008-12-12</th>\n",
       "      <td>47.520000</td>\n",
       "      <td>51.380001</td>\n",
       "      <td>47.520000</td>\n",
       "      <td>51.250000</td>\n",
       "      <td>51.250000</td>\n",
       "      <td>8664800</td>\n",
       "    </tr>\n",
       "  </tbody>\n",
       "</table>\n",
       "</div>"
      ],
      "text/plain": [
       "                 Open       High        Low      Close  Adj Close    Volume\n",
       "Date                                                                       \n",
       "2008-12-08  49.150002  52.139999  47.360001  51.410000  51.410000  10940700\n",
       "2008-12-09  49.810001  54.480000  49.700001  51.250000  51.250000  13314800\n",
       "2008-12-10  51.459999  51.500000  48.340000  49.700001  49.700001   7753800\n",
       "2008-12-11  49.330002  50.490002  48.169998  48.250000  48.250000   7583600\n",
       "2008-12-12  47.520000  51.380001  47.520000  51.250000  51.250000   8664800"
      ]
     },
     "execution_count": 13,
     "metadata": {},
     "output_type": "execute_result"
    }
   ],
   "source": [
    "AmazonData.head()"
   ]
  },
  {
   "cell_type": "code",
   "execution_count": 16,
   "id": "18728158",
   "metadata": {},
   "outputs": [
    {
     "data": {
      "image/png": "[encoded data removed]",
      "text/plain": [
       "<Figure size 640x480 with 1 Axes>"
      ]
     },
     "metadata": {},
     "output_type": "display_data"
    }
   ],
   "source": [
    "AmazonData['Adj Close'].plot(kind = 'line')\n",
    "\n",
    "plt.ylabel('Amazon close rate')\n",
    "plt.xlabel('Date')\n",
    "\n",
    "plt.show()"
   ]
  },
  {
   "cell_type": "code",
   "execution_count": 44,
   "id": "c56e8d89",
   "metadata": {},
   "outputs": [],
   "source": [
    "resampled_data = AmazonData['Adj Close'].resample('M').mean()"
   ]
  },
  {
   "cell_type": "code",
   "execution_count": 45,
   "id": "263f8522",
   "metadata": {},
   "outputs": [
    {
     "data": {
      "text/plain": [
       "Date\n",
       "2008-12-31     50.925882\n",
       "2009-01-31     52.317000\n",
       "2009-02-28     63.426316\n",
       "2009-03-31     68.519545\n",
       "2009-04-30     78.611428\n",
       "2009-05-31     77.690500\n",
       "2009-06-30     83.543182\n",
       "2009-07-31     83.612272\n",
       "2009-08-31     84.080000\n",
       "2009-09-30     86.742857\n",
       "2009-10-31    101.243182\n",
       "2009-11-30    128.587500\n",
       "2009-12-31    134.895455\n",
       "2010-01-31    127.423158\n",
       "2010-02-28    118.021053\n",
       "2010-03-31    130.897391\n",
       "2010-04-30    141.070000\n",
       "2010-05-31    127.606000\n",
       "2010-06-30    121.667272\n",
       "2010-07-31    117.519048\n",
       "Freq: M, Name: Adj Close, dtype: float64"
      ]
     },
     "execution_count": 45,
     "metadata": {},
     "output_type": "execute_result"
    }
   ],
   "source": [
    "resampled_data.head(20)"
   ]
  },
  {
   "cell_type": "code",
   "execution_count": 50,
   "id": "2d2e2df1",
   "metadata": {},
   "outputs": [
    {
     "data": {
      "image/png": "[encoded data removed]",
      "text/plain": [
       "<Figure size 1500x600 with 1 Axes>"
      ]
     },
     "metadata": {},
     "output_type": "display_data"
    }
   ],
   "source": [
    "resampled_data.plot(kind = 'area', figsize=(15,6))\n",
    "\n",
    "plt.ylabel('Amazon Close Rate')\n",
    "plt.xlabel('Time')\n",
    "plt.show()"
   ]
  },
  {
   "cell_type": "code",
   "execution_count": 51,
   "id": "2cb24b5f",
   "metadata": {},
   "outputs": [],
   "source": [
    "resampled_data2=AmazonData['Adj Close'].resample('M').median()"
   ]
  },
  {
   "cell_type": "code",
   "execution_count": 52,
   "id": "6a13d634",
   "metadata": {},
   "outputs": [
    {
     "data": {
      "image/png": "[encoded data removed]",
      "text/plain": [
       "<Figure size 1500x600 with 1 Axes>"
      ]
     },
     "metadata": {},
     "output_type": "display_data"
    }
   ],
   "source": [
    "resampled_data2.plot(kind = 'area', figsize=(15,6))\n",
    "\n",
    "plt.ylabel('Amazon Close Rate')\n",
    "plt.xlabel('Time')\n",
    "plt.show()"
   ]
  },
  {
   "cell_type": "code",
   "execution_count": 53,
   "id": "82e3990d",
   "metadata": {},
   "outputs": [
    {
     "data": {
      "text/plain": [
       "Date\n",
       "2008-12-08         NaN\n",
       "2008-12-09   -0.160000\n",
       "2008-12-10   -1.549999\n",
       "2008-12-11   -1.450001\n",
       "2008-12-12    3.000000\n",
       "Name: Adj Close, dtype: float64"
      ]
     },
     "execution_count": 53,
     "metadata": {},
     "output_type": "execute_result"
    }
   ],
   "source": [
    "deltas = AmazonData['Adj Close'].diff()\n",
    "deltas.head()"
   ]
  },
  {
   "cell_type": "code",
   "execution_count": 58,
   "id": "3b2d0df9",
   "metadata": {},
   "outputs": [
    {
     "data": {
      "image/png": "[encoded data removed]",
      "text/plain": [
       "<Figure size 1500x600 with 1 Axes>"
      ]
     },
     "metadata": {},
     "output_type": "display_data"
    }
   ],
   "source": [
    "deltas.plot(kind = 'density', figsize=(15,6))\n",
    "\n",
    "plt.ylabel('Amazon Close Rate')\n",
    "plt.xlabel('Time')\n",
    "plt.show()"
   ]
  },
  {
   "cell_type": "code",
   "execution_count": 67,
   "id": "54639e22",
   "metadata": {},
   "outputs": [],
   "source": [
    "deltas = AmazonData['Adj Close'].pct_change()"
   ]
  },
  {
   "cell_type": "code",
   "execution_count": 69,
   "id": "b75fa0d7",
   "metadata": {},
   "outputs": [
    {
     "data": {
      "text/plain": [
       "Date\n",
       "2008-12-08         NaN\n",
       "2008-12-09   -0.003112\n",
       "2008-12-10   -0.030244\n",
       "2008-12-11   -0.029175\n",
       "2008-12-12    0.062176\n",
       "2008-12-15   -0.046829\n",
       "2008-12-16    0.077380\n",
       "2008-12-17    0.010450\n",
       "2008-12-18   -0.020684\n",
       "2008-12-19   -0.009985\n",
       "Name: Adj Close, dtype: float64"
      ]
     },
     "execution_count": 69,
     "metadata": {},
     "output_type": "execute_result"
    }
   ],
   "source": [
    "deltas.head(10)"
   ]
  },
  {
   "cell_type": "code",
   "execution_count": null,
   "id": "e84ee07c",
   "metadata": {},
   "outputs": [],
   "source": []
  },
  {
   "cell_type": "code",
   "execution_count": 71,
   "id": "d04eff6b",
   "metadata": {},
   "outputs": [
    {
     "data": {
      "text/plain": [
       "Date\n",
       "2008-12-08         NaN\n",
       "2008-12-09         NaN\n",
       "2008-12-10         NaN\n",
       "2008-12-11         NaN\n",
       "2008-12-12         NaN\n",
       "2008-12-15   -0.009437\n",
       "2008-12-16    0.006662\n",
       "2008-12-17    0.014800\n",
       "2008-12-18    0.016499\n",
       "2008-12-19    0.002066\n",
       "Name: Adj Close, dtype: float64"
      ]
     },
     "execution_count": 71,
     "metadata": {},
     "output_type": "execute_result"
    }
   ],
   "source": [
    "window = deltas.rolling(window = 5).mean()\n",
    "window.head(10\n",
    "           )"
   ]
  },
  {
   "cell_type": "code",
   "execution_count": 73,
   "id": "6a888d58",
   "metadata": {},
   "outputs": [
    {
     "data": {
      "text/html": [
       "<div>\n",
       "<style scoped>\n",
       "    .dataframe tbody tr th:only-of-type {\n",
       "        vertical-align: middle;\n",
       "    }\n",
       "\n",
       "    .dataframe tbody tr th {\n",
       "        vertical-align: top;\n",
       "    }\n",
       "\n",
       "    .dataframe thead th {\n",
       "        text-align: right;\n",
       "    }\n",
       "</style>\n",
       "<table border=\"1\" class=\"dataframe\">\n",
       "  <thead>\n",
       "    <tr style=\"text-align: right;\">\n",
       "      <th></th>\n",
       "      <th>Open</th>\n",
       "      <th>High</th>\n",
       "      <th>Low</th>\n",
       "      <th>Close</th>\n",
       "      <th>Adj Close</th>\n",
       "      <th>Volume</th>\n",
       "    </tr>\n",
       "    <tr>\n",
       "      <th>Date</th>\n",
       "      <th></th>\n",
       "      <th></th>\n",
       "      <th></th>\n",
       "      <th></th>\n",
       "      <th></th>\n",
       "      <th></th>\n",
       "    </tr>\n",
       "  </thead>\n",
       "  <tbody>\n",
       "    <tr>\n",
       "      <th>2008-12-08</th>\n",
       "      <td>49.150002</td>\n",
       "      <td>52.139999</td>\n",
       "      <td>47.360001</td>\n",
       "      <td>51.410000</td>\n",
       "      <td>51.410000</td>\n",
       "      <td>10940700</td>\n",
       "    </tr>\n",
       "    <tr>\n",
       "      <th>2008-12-09</th>\n",
       "      <td>49.810001</td>\n",
       "      <td>54.480000</td>\n",
       "      <td>49.700001</td>\n",
       "      <td>51.250000</td>\n",
       "      <td>51.250000</td>\n",
       "      <td>13314800</td>\n",
       "    </tr>\n",
       "    <tr>\n",
       "      <th>2008-12-10</th>\n",
       "      <td>51.459999</td>\n",
       "      <td>51.500000</td>\n",
       "      <td>48.340000</td>\n",
       "      <td>49.700001</td>\n",
       "      <td>49.700001</td>\n",
       "      <td>7753800</td>\n",
       "    </tr>\n",
       "    <tr>\n",
       "      <th>2008-12-11</th>\n",
       "      <td>49.330002</td>\n",
       "      <td>50.490002</td>\n",
       "      <td>48.169998</td>\n",
       "      <td>48.250000</td>\n",
       "      <td>48.250000</td>\n",
       "      <td>7583600</td>\n",
       "    </tr>\n",
       "    <tr>\n",
       "      <th>2008-12-12</th>\n",
       "      <td>47.520000</td>\n",
       "      <td>51.380001</td>\n",
       "      <td>47.520000</td>\n",
       "      <td>51.250000</td>\n",
       "      <td>51.250000</td>\n",
       "      <td>8664800</td>\n",
       "    </tr>\n",
       "  </tbody>\n",
       "</table>\n",
       "</div>"
      ],
      "text/plain": [
       "                 Open       High        Low      Close  Adj Close    Volume\n",
       "Date                                                                       \n",
       "2008-12-08  49.150002  52.139999  47.360001  51.410000  51.410000  10940700\n",
       "2008-12-09  49.810001  54.480000  49.700001  51.250000  51.250000  13314800\n",
       "2008-12-10  51.459999  51.500000  48.340000  49.700001  49.700001   7753800\n",
       "2008-12-11  49.330002  50.490002  48.169998  48.250000  48.250000   7583600\n",
       "2008-12-12  47.520000  51.380001  47.520000  51.250000  51.250000   8664800"
      ]
     },
     "execution_count": 73,
     "metadata": {},
     "output_type": "execute_result"
    }
   ],
   "source": [
    "AmazonData.head()"
   ]
  },
  {
   "cell_type": "code",
   "execution_count": 76,
   "id": "1f5c2412",
   "metadata": {},
   "outputs": [],
   "source": [
    "df = pd.DataFrame({\"Col1\" :[\"a\",'b','c','d'], 'Col2':['e','f','g','h']})"
   ]
  },
  {
   "cell_type": "code",
   "execution_count": 77,
   "id": "0308c6a0",
   "metadata": {},
   "outputs": [
    {
     "data": {
      "text/html": [
       "<div>\n",
       "<style scoped>\n",
       "    .dataframe tbody tr th:only-of-type {\n",
       "        vertical-align: middle;\n",
       "    }\n",
       "\n",
       "    .dataframe tbody tr th {\n",
       "        vertical-align: top;\n",
       "    }\n",
       "\n",
       "    .dataframe thead th {\n",
       "        text-align: right;\n",
       "    }\n",
       "</style>\n",
       "<table border=\"1\" class=\"dataframe\">\n",
       "  <thead>\n",
       "    <tr style=\"text-align: right;\">\n",
       "      <th></th>\n",
       "      <th>Col1</th>\n",
       "      <th>Col2</th>\n",
       "    </tr>\n",
       "  </thead>\n",
       "  <tbody>\n",
       "    <tr>\n",
       "      <th>0</th>\n",
       "      <td>a</td>\n",
       "      <td>e</td>\n",
       "    </tr>\n",
       "    <tr>\n",
       "      <th>1</th>\n",
       "      <td>b</td>\n",
       "      <td>f</td>\n",
       "    </tr>\n",
       "    <tr>\n",
       "      <th>2</th>\n",
       "      <td>c</td>\n",
       "      <td>g</td>\n",
       "    </tr>\n",
       "    <tr>\n",
       "      <th>3</th>\n",
       "      <td>d</td>\n",
       "      <td>h</td>\n",
       "    </tr>\n",
       "  </tbody>\n",
       "</table>\n",
       "</div>"
      ],
      "text/plain": [
       "  Col1 Col2\n",
       "0    a    e\n",
       "1    b    f\n",
       "2    c    g\n",
       "3    d    h"
      ]
     },
     "execution_count": 77,
     "metadata": {},
     "output_type": "execute_result"
    }
   ],
   "source": [
    "df"
   ]
  },
  {
   "cell_type": "code",
   "execution_count": 79,
   "id": "448d4cd8",
   "metadata": {},
   "outputs": [
    {
     "data": {
      "text/plain": [
       "0    A\n",
       "1    B\n",
       "2    C\n",
       "3    D\n",
       "Name: Col1, dtype: object"
      ]
     },
     "execution_count": 79,
     "metadata": {},
     "output_type": "execute_result"
    }
   ],
   "source": [
    "df.Col1.str.upper()"
   ]
  },
  {
   "cell_type": "code",
   "execution_count": null,
   "id": "fa65d563",
   "metadata": {},
   "outputs": [],
   "source": []
  },
  {
   "cell_type": "code",
   "execution_count": null,
   "id": "ac010beb",
   "metadata": {},
   "outputs": [],
   "source": []
  },
  {
   "cell_type": "code",
   "execution_count": null,
   "id": "a3b05ad5",
   "metadata": {},
   "outputs": [],
   "source": []
  },
  {
   "cell_type": "code",
   "execution_count": null,
   "id": "f6289792",
   "metadata": {},
   "outputs": [],
   "source": []
  },
  {
   "cell_type": "code",
   "execution_count": null,
   "id": "f0149d1f",
   "metadata": {},
   "outputs": [],
   "source": []
  },
  {
   "cell_type": "code",
   "execution_count": null,
   "id": "6e4f8226",
   "metadata": {},
   "outputs": [],
   "source": []
  },
  {
   "cell_type": "code",
   "execution_count": null,
   "id": "d69332b2",
   "metadata": {},
   "outputs": [],
   "source": []
  }
 ],
 "metadata": {
  "kernelspec": {
   "display_name": "Python 3 (ipykernel)",
   "language": "python",
   "name": "python3"
  },
  "language_info": {
   "codemirror_mode": {
    "name": "ipython",
    "version": 3
   },
   "file_extension": ".py",
   "mimetype": "text/x-python",
   "name": "python",
   "nbconvert_exporter": "python",
   "pygments_lexer": "ipython3",
   "version": "3.10.9"
  }
 },
 "nbformat": 4,
 "nbformat_minor": 5
}
